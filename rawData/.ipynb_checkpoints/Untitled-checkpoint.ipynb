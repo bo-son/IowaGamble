{
 "cells": [
  {
   "cell_type": "code",
   "execution_count": 3,
   "metadata": {},
   "outputs": [],
   "source": [
    "import theano.tensor as tt\n",
    "import numpy as np"
   ]
  },
  {
   "cell_type": "code",
   "execution_count": 4,
   "metadata": {},
   "outputs": [],
   "source": [
    "val = np.random.rand(48,4)\n",
    "t_val = tt._shared(val)"
   ]
  },
  {
   "cell_type": "code",
   "execution_count": 37,
   "metadata": {},
   "outputs": [
    {
     "data": {
      "text/plain": [
       "array([48,  1])"
      ]
     },
     "execution_count": 37,
     "metadata": {},
     "output_type": "execute_result"
    }
   ],
   "source": [
    "c = np.random.rand(48)\n",
    "t_c = tt._shared(c)\n",
    "theta = tt.pow(3, t_c).dimshuffle(0, 'x')\n",
    "tt.shape(theta).eval()"
   ]
  },
  {
   "cell_type": "code",
   "execution_count": 6,
   "metadata": {},
   "outputs": [
    {
     "data": {
      "text/plain": [
       "array([48,  4])"
      ]
     },
     "execution_count": 6,
     "metadata": {},
     "output_type": "execute_result"
    }
   ],
   "source": [
    "tt.shape(t_val).eval()"
   ]
  },
  {
   "cell_type": "code",
   "execution_count": 26,
   "metadata": {},
   "outputs": [
    {
     "data": {
      "text/plain": [
       "array([[2.21432859, 1.44213097, 2.61260229, 1.55446876, 2.11479266,\n",
       "        1.81563758, 1.71887939, 1.52450789, 1.4367914 , 2.48000029,\n",
       "        1.0351509 , 2.6873363 , 1.40016418, 1.17108869, 2.52737469,\n",
       "        1.1033191 , 1.71912337, 2.32206435, 1.73583573, 1.02699754,\n",
       "        1.35917364, 2.76991653, 1.93626992, 2.51158559, 2.83274979,\n",
       "        1.51497779, 1.66228107, 1.0385363 , 2.27057261, 1.03197639,\n",
       "        2.31712411, 1.68522643, 1.09290524, 1.60585956, 2.38482423,\n",
       "        2.43899476, 1.15095942, 2.77666977, 1.53540429, 1.63229363,\n",
       "        2.44818248, 2.11247522, 2.31286898, 2.15832713, 1.86672762,\n",
       "        1.21935562, 1.97178604, 1.3099863 ]])"
      ]
     },
     "execution_count": 26,
     "metadata": {},
     "output_type": "execute_result"
    }
   ],
   "source": [
    "theta.eval()"
   ]
  },
  {
   "cell_type": "code",
   "execution_count": 123,
   "metadata": {},
   "outputs": [],
   "source": [
    "pers = tt._shared(np.ones((48,4)))"
   ]
  },
  {
   "cell_type": "code",
   "execution_count": 124,
   "metadata": {},
   "outputs": [
    {
     "data": {
      "text/plain": [
       "array([3, 2, 1, 3, 2, 2, 1, 2, 0, 3, 2, 3, 0, 0, 1, 0, 0, 2, 2, 3, 2, 3,\n",
       "       2, 0, 0, 3, 2, 1, 0, 2, 1, 1, 0, 2, 2, 1, 0, 2, 3, 0, 0, 0, 2, 2,\n",
       "       1, 0, 3, 2])"
      ]
     },
     "execution_count": 124,
     "metadata": {},
     "output_type": "execute_result"
    }
   ],
   "source": [
    "choice = tt._shared(np.random.randint(low=0, high=4, size=48))\n",
    "choice.eval()"
   ]
  },
  {
   "cell_type": "code",
   "execution_count": 125,
   "metadata": {},
   "outputs": [
    {
     "data": {
      "text/plain": [
       "array([1., 1., 1., 1., 1., 1., 1., 1., 1., 1., 1., 1., 1., 1., 1., 1., 1.,\n",
       "       1., 1., 1., 1., 1., 1., 1., 1., 1., 1., 1., 1., 1., 1., 1., 1., 1.,\n",
       "       1., 1., 1., 1., 1., 1., 1., 1., 1., 1., 1., 1., 1., 1.])"
      ]
     },
     "execution_count": 125,
     "metadata": {},
     "output_type": "execute_result"
    }
   ],
   "source": [
    "pers[tt.arange(choice.shape[0]), choice].eval()"
   ]
  },
  {
   "cell_type": "code",
   "execution_count": 129,
   "metadata": {},
   "outputs": [
    {
     "data": {
      "text/plain": [
       "array([48,  1])"
      ]
     },
     "execution_count": 129,
     "metadata": {},
     "output_type": "execute_result"
    }
   ],
   "source": [
    "pos = tt._shared(np.ones((48,1)))\n",
    "neg = np.full((48,1), -1)\n",
    "neg = tt._shared(neg)"
   ]
  },
  {
   "cell_type": "code",
   "execution_count": 106,
   "metadata": {},
   "outputs": [
    {
     "data": {
      "text/plain": [
       "array([[-1, -1,  0, -1,  0,  0,  0, -1,  0, -1],\n",
       "       [-1, -1,  0, -1, -1, -1, -1, -1,  0,  0],\n",
       "       [-1,  0, -1,  0,  0, -1,  0,  0,  0,  0],\n",
       "       [-1, -1, -1,  0, -1, -1, -1,  0, -1, -1],\n",
       "       [ 0,  0, -1, -1, -1,  0, -1, -1,  0, -1],\n",
       "       [ 0,  0,  0,  0,  0,  0, -1,  0, -1,  0],\n",
       "       [ 0,  0,  0, -1,  0, -1,  0,  0,  0, -1],\n",
       "       [ 0,  0,  0,  0, -1,  0, -1, -1,  0, -1],\n",
       "       [-1, -1, -1,  0,  0, -1, -1,  0, -1, -1],\n",
       "       [ 0,  0, -1,  0, -1, -1, -1, -1,  0, -1],\n",
       "       [-1,  0, -1, -1,  0,  0,  0, -1,  0,  0],\n",
       "       [-1,  0, -1,  0, -1,  0, -1,  0, -1, -1],\n",
       "       [ 0, -1, -1,  0,  0,  0, -1,  0, -1,  0],\n",
       "       [-1,  0,  0,  0, -1, -1, -1, -1, -1,  0],\n",
       "       [-1,  0, -1, -1,  0, -1,  0,  0, -1,  0],\n",
       "       [ 0, -1,  0, -1, -1, -1,  0, -1, -1, -1],\n",
       "       [-1,  0, -1,  0,  0,  0,  0, -1, -1, -1],\n",
       "       [ 0, -1,  0,  0,  0,  0, -1, -1, -1, -1],\n",
       "       [-1,  0, -1,  0, -1,  0, -1, -1, -1,  0],\n",
       "       [ 0, -1,  0, -1, -1,  0,  0, -1, -1, -1],\n",
       "       [ 0,  0,  0, -1, -1,  0,  0, -1,  0,  0],\n",
       "       [-1, -1, -1,  0,  0, -1,  0, -1,  0, -1],\n",
       "       [-1, -1, -1,  0,  0,  0,  0, -1,  0, -1],\n",
       "       [-1, -1,  0, -1, -1, -1,  0, -1,  0,  0],\n",
       "       [-1,  0,  0,  0,  0, -1, -1,  0,  0, -1],\n",
       "       [-1,  0, -1, -1, -1, -1, -1,  0,  0, -1],\n",
       "       [-1, -1,  0, -1,  0, -1, -1, -1,  0, -1],\n",
       "       [-1, -1,  0,  0,  0,  0,  0,  0,  0, -1],\n",
       "       [ 0, -1,  0, -1,  0, -1,  0,  0, -1, -1],\n",
       "       [ 0,  0,  0,  0, -1, -1,  0,  0, -1, -1],\n",
       "       [-1,  0,  0,  0,  0,  0, -1,  0, -1, -1],\n",
       "       [-1, -1,  0,  0,  0,  0, -1, -1, -1, -1],\n",
       "       [ 0,  0,  0,  0,  0, -1, -1, -1,  0,  0],\n",
       "       [-1,  0,  0,  0, -1,  0, -1,  0,  0, -1],\n",
       "       [ 0, -1,  0, -1,  0, -1,  0, -1,  0, -1],\n",
       "       [-1, -1, -1,  0,  0,  0, -1,  0,  0,  0],\n",
       "       [-1, -1,  0,  0, -1,  0, -1,  0,  0,  0],\n",
       "       [-1,  0, -1,  0, -1,  0,  0, -1, -1, -1],\n",
       "       [ 0, -1,  0, -1, -1, -1, -1, -1, -1,  0],\n",
       "       [-1,  0, -1,  0, -1, -1, -1, -1,  0,  0],\n",
       "       [ 0,  0, -1,  0,  0,  0, -1, -1, -1, -1],\n",
       "       [ 0, -1, -1,  0, -1, -1, -1, -1,  0,  0],\n",
       "       [-1,  0, -1, -1, -1, -1,  0,  0,  0,  0],\n",
       "       [ 0,  0, -1,  0,  0,  0,  0,  0, -1,  0],\n",
       "       [-1,  0, -1,  0,  0, -1,  0,  0,  0,  0],\n",
       "       [ 0, -1,  0, -1,  0,  0, -1,  0, -1, -1],\n",
       "       [-1,  0,  0, -1,  0, -1, -1,  0,  0, -1],\n",
       "       [-1, -1,  0, -1, -1, -1,  0, -1,  0, -1]])"
      ]
     },
     "execution_count": 106,
     "metadata": {},
     "output_type": "execute_result"
    }
   ],
   "source": [
    "outcome = tt._shared(np.random.randint(low=-1, high=1, size=(48,10)))\n",
    "outcome.eval()"
   ]
  },
  {
   "cell_type": "code",
   "execution_count": 120,
   "metadata": {},
   "outputs": [],
   "source": [
    "update_pers = tt.switch(outcome[:, 1] >= 0, \n",
    "                        pers[tt.arange(choice.shape[0]), choice] + pos, \n",
    "                        pers[tt.arange(choice.shape[0]), choice] + neg)"
   ]
  },
  {
   "cell_type": "code",
   "execution_count": 127,
   "metadata": {},
   "outputs": [],
   "source": [
    "update_pers = tt.switch(outcome[:, 1] >= 0, \n",
    "                        pers[tt.arange(choice.shape[0]), choice] + pos, \n",
    "                        pers[tt.arange(choice.shape[0]), choice] + neg)"
   ]
  },
  {
   "cell_type": "code",
   "execution_count": 128,
   "metadata": {},
   "outputs": [
    {
     "ename": "ValueError",
     "evalue": "Input dimension mis-match. (input[0].shape[1] = 48, input[2].shape[1] = 1)\nApply node that caused the error: Elemwise{Composite{Switch(i0, (i1 + i2), (i1 + i3))}}(Elemwise{ge,no_inplace}.0, InplaceDimShuffle{x,0}.0, <TensorType(float64, matrix)>, <TensorType(int64, matrix)>)\nToposort index: 7\nInputs types: [TensorType(bool, row), TensorType(float64, row), TensorType(float64, matrix), TensorType(int64, matrix)]\nInputs shapes: [(1, 48), (1, 48), (48, 1), (48, 1)]\nInputs strides: [(48, 1), (384, 8), (8, 8), (8, 8)]\nInputs values: ['not shown', 'not shown', 'not shown', 'not shown']\nOutputs clients: [['output']]\n\nHINT: Re-running with most Theano optimization disabled could give you a back-trace of when this node was created. This can be done with by setting the Theano flag 'optimizer=fast_compile'. If that does not work, Theano optimizations can be disabled with 'optimizer=None'.\nHINT: Use the Theano flag 'exception_verbosity=high' for a debugprint and storage map footprint of this apply node.",
     "output_type": "error",
     "traceback": [
      "\u001b[0;31m---------------------------------------------------------------------------\u001b[0m",
      "\u001b[0;31mValueError\u001b[0m                                Traceback (most recent call last)",
      "\u001b[0;32m/anaconda3/lib/python3.6/site-packages/theano/compile/function_module.py\u001b[0m in \u001b[0;36m__call__\u001b[0;34m(self, *args, **kwargs)\u001b[0m\n\u001b[1;32m    902\u001b[0m             \u001b[0moutputs\u001b[0m \u001b[0;34m=\u001b[0m\u001b[0;31m\\\u001b[0m\u001b[0;34m\u001b[0m\u001b[0m\n\u001b[0;32m--> 903\u001b[0;31m                 \u001b[0mself\u001b[0m\u001b[0;34m.\u001b[0m\u001b[0mfn\u001b[0m\u001b[0;34m(\u001b[0m\u001b[0;34m)\u001b[0m \u001b[0;32mif\u001b[0m \u001b[0moutput_subset\u001b[0m \u001b[0;32mis\u001b[0m \u001b[0;32mNone\u001b[0m \u001b[0;32melse\u001b[0m\u001b[0;31m\\\u001b[0m\u001b[0;34m\u001b[0m\u001b[0m\n\u001b[0m\u001b[1;32m    904\u001b[0m                 \u001b[0mself\u001b[0m\u001b[0;34m.\u001b[0m\u001b[0mfn\u001b[0m\u001b[0;34m(\u001b[0m\u001b[0moutput_subset\u001b[0m\u001b[0;34m=\u001b[0m\u001b[0moutput_subset\u001b[0m\u001b[0;34m)\u001b[0m\u001b[0;34m\u001b[0m\u001b[0m\n",
      "\u001b[0;31mValueError\u001b[0m: Input dimension mis-match. (input[0].shape[1] = 48, input[2].shape[1] = 1)",
      "\nDuring handling of the above exception, another exception occurred:\n",
      "\u001b[0;31mValueError\u001b[0m                                Traceback (most recent call last)",
      "\u001b[0;32m<ipython-input-128-2954975eaaed>\u001b[0m in \u001b[0;36m<module>\u001b[0;34m()\u001b[0m\n\u001b[0;32m----> 1\u001b[0;31m \u001b[0mupdate_pers\u001b[0m\u001b[0;34m.\u001b[0m\u001b[0meval\u001b[0m\u001b[0;34m(\u001b[0m\u001b[0;34m)\u001b[0m\u001b[0;34m\u001b[0m\u001b[0m\n\u001b[0m",
      "\u001b[0;32m/anaconda3/lib/python3.6/site-packages/theano/gof/graph.py\u001b[0m in \u001b[0;36meval\u001b[0;34m(self, inputs_to_values)\u001b[0m\n\u001b[1;32m    523\u001b[0m         \u001b[0margs\u001b[0m \u001b[0;34m=\u001b[0m \u001b[0;34m[\u001b[0m\u001b[0minputs_to_values\u001b[0m\u001b[0;34m[\u001b[0m\u001b[0mparam\u001b[0m\u001b[0;34m]\u001b[0m \u001b[0;32mfor\u001b[0m \u001b[0mparam\u001b[0m \u001b[0;32min\u001b[0m \u001b[0minputs\u001b[0m\u001b[0;34m]\u001b[0m\u001b[0;34m\u001b[0m\u001b[0m\n\u001b[1;32m    524\u001b[0m \u001b[0;34m\u001b[0m\u001b[0m\n\u001b[0;32m--> 525\u001b[0;31m         \u001b[0mrval\u001b[0m \u001b[0;34m=\u001b[0m \u001b[0mself\u001b[0m\u001b[0;34m.\u001b[0m\u001b[0m_fn_cache\u001b[0m\u001b[0;34m[\u001b[0m\u001b[0minputs\u001b[0m\u001b[0;34m]\u001b[0m\u001b[0;34m(\u001b[0m\u001b[0;34m*\u001b[0m\u001b[0margs\u001b[0m\u001b[0;34m)\u001b[0m\u001b[0;34m\u001b[0m\u001b[0m\n\u001b[0m\u001b[1;32m    526\u001b[0m \u001b[0;34m\u001b[0m\u001b[0m\n\u001b[1;32m    527\u001b[0m         \u001b[0;32mreturn\u001b[0m \u001b[0mrval\u001b[0m\u001b[0;34m\u001b[0m\u001b[0m\n",
      "\u001b[0;32m/anaconda3/lib/python3.6/site-packages/theano/compile/function_module.py\u001b[0m in \u001b[0;36m__call__\u001b[0;34m(self, *args, **kwargs)\u001b[0m\n\u001b[1;32m    915\u001b[0m                     \u001b[0mnode\u001b[0m\u001b[0;34m=\u001b[0m\u001b[0mself\u001b[0m\u001b[0;34m.\u001b[0m\u001b[0mfn\u001b[0m\u001b[0;34m.\u001b[0m\u001b[0mnodes\u001b[0m\u001b[0;34m[\u001b[0m\u001b[0mself\u001b[0m\u001b[0;34m.\u001b[0m\u001b[0mfn\u001b[0m\u001b[0;34m.\u001b[0m\u001b[0mposition_of_error\u001b[0m\u001b[0;34m]\u001b[0m\u001b[0;34m,\u001b[0m\u001b[0;34m\u001b[0m\u001b[0m\n\u001b[1;32m    916\u001b[0m                     \u001b[0mthunk\u001b[0m\u001b[0;34m=\u001b[0m\u001b[0mthunk\u001b[0m\u001b[0;34m,\u001b[0m\u001b[0;34m\u001b[0m\u001b[0m\n\u001b[0;32m--> 917\u001b[0;31m                     storage_map=getattr(self.fn, 'storage_map', None))\n\u001b[0m\u001b[1;32m    918\u001b[0m             \u001b[0;32melse\u001b[0m\u001b[0;34m:\u001b[0m\u001b[0;34m\u001b[0m\u001b[0m\n\u001b[1;32m    919\u001b[0m                 \u001b[0;31m# old-style linkers raise their own exceptions\u001b[0m\u001b[0;34m\u001b[0m\u001b[0;34m\u001b[0m\u001b[0m\n",
      "\u001b[0;32m/anaconda3/lib/python3.6/site-packages/theano/gof/link.py\u001b[0m in \u001b[0;36mraise_with_op\u001b[0;34m(node, thunk, exc_info, storage_map)\u001b[0m\n\u001b[1;32m    323\u001b[0m         \u001b[0;31m# extra long error message in that case.\u001b[0m\u001b[0;34m\u001b[0m\u001b[0;34m\u001b[0m\u001b[0m\n\u001b[1;32m    324\u001b[0m         \u001b[0;32mpass\u001b[0m\u001b[0;34m\u001b[0m\u001b[0m\n\u001b[0;32m--> 325\u001b[0;31m     \u001b[0mreraise\u001b[0m\u001b[0;34m(\u001b[0m\u001b[0mexc_type\u001b[0m\u001b[0;34m,\u001b[0m \u001b[0mexc_value\u001b[0m\u001b[0;34m,\u001b[0m \u001b[0mexc_trace\u001b[0m\u001b[0;34m)\u001b[0m\u001b[0;34m\u001b[0m\u001b[0m\n\u001b[0m\u001b[1;32m    326\u001b[0m \u001b[0;34m\u001b[0m\u001b[0m\n\u001b[1;32m    327\u001b[0m \u001b[0;34m\u001b[0m\u001b[0m\n",
      "\u001b[0;32m/anaconda3/lib/python3.6/site-packages/six.py\u001b[0m in \u001b[0;36mreraise\u001b[0;34m(tp, value, tb)\u001b[0m\n\u001b[1;32m    690\u001b[0m                 \u001b[0mvalue\u001b[0m \u001b[0;34m=\u001b[0m \u001b[0mtp\u001b[0m\u001b[0;34m(\u001b[0m\u001b[0;34m)\u001b[0m\u001b[0;34m\u001b[0m\u001b[0m\n\u001b[1;32m    691\u001b[0m             \u001b[0;32mif\u001b[0m \u001b[0mvalue\u001b[0m\u001b[0;34m.\u001b[0m\u001b[0m__traceback__\u001b[0m \u001b[0;32mis\u001b[0m \u001b[0;32mnot\u001b[0m \u001b[0mtb\u001b[0m\u001b[0;34m:\u001b[0m\u001b[0;34m\u001b[0m\u001b[0m\n\u001b[0;32m--> 692\u001b[0;31m                 \u001b[0;32mraise\u001b[0m \u001b[0mvalue\u001b[0m\u001b[0;34m.\u001b[0m\u001b[0mwith_traceback\u001b[0m\u001b[0;34m(\u001b[0m\u001b[0mtb\u001b[0m\u001b[0;34m)\u001b[0m\u001b[0;34m\u001b[0m\u001b[0m\n\u001b[0m\u001b[1;32m    693\u001b[0m             \u001b[0;32mraise\u001b[0m \u001b[0mvalue\u001b[0m\u001b[0;34m\u001b[0m\u001b[0m\n\u001b[1;32m    694\u001b[0m         \u001b[0;32mfinally\u001b[0m\u001b[0;34m:\u001b[0m\u001b[0;34m\u001b[0m\u001b[0m\n",
      "\u001b[0;32m/anaconda3/lib/python3.6/site-packages/theano/compile/function_module.py\u001b[0m in \u001b[0;36m__call__\u001b[0;34m(self, *args, **kwargs)\u001b[0m\n\u001b[1;32m    901\u001b[0m         \u001b[0;32mtry\u001b[0m\u001b[0;34m:\u001b[0m\u001b[0;34m\u001b[0m\u001b[0m\n\u001b[1;32m    902\u001b[0m             \u001b[0moutputs\u001b[0m \u001b[0;34m=\u001b[0m\u001b[0;31m\\\u001b[0m\u001b[0;34m\u001b[0m\u001b[0m\n\u001b[0;32m--> 903\u001b[0;31m                 \u001b[0mself\u001b[0m\u001b[0;34m.\u001b[0m\u001b[0mfn\u001b[0m\u001b[0;34m(\u001b[0m\u001b[0;34m)\u001b[0m \u001b[0;32mif\u001b[0m \u001b[0moutput_subset\u001b[0m \u001b[0;32mis\u001b[0m \u001b[0;32mNone\u001b[0m \u001b[0;32melse\u001b[0m\u001b[0;31m\\\u001b[0m\u001b[0;34m\u001b[0m\u001b[0m\n\u001b[0m\u001b[1;32m    904\u001b[0m                 \u001b[0mself\u001b[0m\u001b[0;34m.\u001b[0m\u001b[0mfn\u001b[0m\u001b[0;34m(\u001b[0m\u001b[0moutput_subset\u001b[0m\u001b[0;34m=\u001b[0m\u001b[0moutput_subset\u001b[0m\u001b[0;34m)\u001b[0m\u001b[0;34m\u001b[0m\u001b[0m\n\u001b[1;32m    905\u001b[0m         \u001b[0;32mexcept\u001b[0m \u001b[0mException\u001b[0m\u001b[0;34m:\u001b[0m\u001b[0;34m\u001b[0m\u001b[0m\n",
      "\u001b[0;31mValueError\u001b[0m: Input dimension mis-match. (input[0].shape[1] = 48, input[2].shape[1] = 1)\nApply node that caused the error: Elemwise{Composite{Switch(i0, (i1 + i2), (i1 + i3))}}(Elemwise{ge,no_inplace}.0, InplaceDimShuffle{x,0}.0, <TensorType(float64, matrix)>, <TensorType(int64, matrix)>)\nToposort index: 7\nInputs types: [TensorType(bool, row), TensorType(float64, row), TensorType(float64, matrix), TensorType(int64, matrix)]\nInputs shapes: [(1, 48), (1, 48), (48, 1), (48, 1)]\nInputs strides: [(48, 1), (384, 8), (8, 8), (8, 8)]\nInputs values: ['not shown', 'not shown', 'not shown', 'not shown']\nOutputs clients: [['output']]\n\nHINT: Re-running with most Theano optimization disabled could give you a back-trace of when this node was created. This can be done with by setting the Theano flag 'optimizer=fast_compile'. If that does not work, Theano optimizations can be disabled with 'optimizer=None'.\nHINT: Use the Theano flag 'exception_verbosity=high' for a debugprint and storage map footprint of this apply node."
     ]
    }
   ],
   "source": [
    "update_pers.eval()"
   ]
  },
  {
   "cell_type": "code",
   "execution_count": 113,
   "metadata": {},
   "outputs": [],
   "source": [
    "pers = tt.set_subtensor(pers[tt.arange(choice.shape[0]), choice], update_pers)"
   ]
  },
  {
   "cell_type": "code",
   "execution_count": 114,
   "metadata": {},
   "outputs": [
    {
     "data": {
      "text/plain": [
       "array([[1., 0., 1., 1.],\n",
       "       [1., 0., 1., 1.],\n",
       "       [2., 1., 1., 1.],\n",
       "       [1., 1., 0., 1.],\n",
       "       [1., 1., 1., 2.],\n",
       "       [1., 1., 2., 1.],\n",
       "       [2., 1., 1., 1.],\n",
       "       [1., 1., 1., 2.],\n",
       "       [1., 0., 1., 1.],\n",
       "       [2., 1., 1., 1.],\n",
       "       [2., 1., 1., 1.],\n",
       "       [1., 1., 1., 2.],\n",
       "       [0., 1., 1., 1.],\n",
       "       [1., 1., 1., 2.],\n",
       "       [1., 2., 1., 1.],\n",
       "       [0., 1., 1., 1.],\n",
       "       [2., 1., 1., 1.],\n",
       "       [1., 0., 1., 1.],\n",
       "       [1., 2., 1., 1.],\n",
       "       [1., 1., 1., 0.],\n",
       "       [1., 2., 1., 1.],\n",
       "       [1., 1., 1., 0.],\n",
       "       [1., 1., 1., 0.],\n",
       "       [1., 1., 0., 1.],\n",
       "       [1., 2., 1., 1.],\n",
       "       [1., 2., 1., 1.],\n",
       "       [0., 1., 1., 1.],\n",
       "       [1., 1., 1., 0.],\n",
       "       [1., 1., 0., 1.],\n",
       "       [1., 1., 2., 1.],\n",
       "       [1., 1., 2., 1.],\n",
       "       [1., 1., 0., 1.],\n",
       "       [2., 1., 1., 1.],\n",
       "       [1., 1., 1., 2.],\n",
       "       [1., 0., 1., 1.],\n",
       "       [1., 0., 1., 1.],\n",
       "       [1., 1., 0., 1.],\n",
       "       [1., 1., 1., 2.],\n",
       "       [1., 1., 0., 1.],\n",
       "       [1., 1., 2., 1.],\n",
       "       [1., 1., 1., 2.],\n",
       "       [1., 1., 1., 0.],\n",
       "       [1., 1., 2., 1.],\n",
       "       [1., 1., 2., 1.],\n",
       "       [1., 1., 1., 2.],\n",
       "       [1., 1., 1., 0.],\n",
       "       [1., 1., 2., 1.],\n",
       "       [0., 1., 1., 1.]])"
      ]
     },
     "execution_count": 114,
     "metadata": {},
     "output_type": "execute_result"
    }
   ],
   "source": [
    "pers.eval()"
   ]
  },
  {
   "cell_type": "code",
   "execution_count": null,
   "metadata": {},
   "outputs": [],
   "source": []
  }
 ],
 "metadata": {
  "kernelspec": {
   "display_name": "system",
   "language": "python",
   "name": "python3"
  },
  "language_info": {
   "codemirror_mode": {
    "name": "ipython",
    "version": 3
   },
   "file_extension": ".py",
   "mimetype": "text/x-python",
   "name": "python",
   "nbconvert_exporter": "python",
   "pygments_lexer": "ipython3",
   "version": "3.6.4"
  }
 },
 "nbformat": 4,
 "nbformat_minor": 2
}
